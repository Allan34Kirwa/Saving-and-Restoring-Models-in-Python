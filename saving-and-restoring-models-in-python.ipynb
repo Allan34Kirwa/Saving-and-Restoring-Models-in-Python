{
 "cells": [
  {
   "cell_type": "code",
   "execution_count": 1,
   "id": "782727d7",
   "metadata": {
    "_cell_guid": "b1076dfc-b9ad-4769-8c92-a6c4dae69d19",
    "_uuid": "8f2839f25d086af736a60e9eeb907d3b93b6e0e5",
    "execution": {
     "iopub.execute_input": "2024-03-27T09:50:17.415553Z",
     "iopub.status.busy": "2024-03-27T09:50:17.414417Z",
     "iopub.status.idle": "2024-03-27T09:50:20.272430Z",
     "shell.execute_reply": "2024-03-27T09:50:20.270872Z"
    },
    "papermill": {
     "duration": 2.875329,
     "end_time": "2024-03-27T09:50:20.275619",
     "exception": false,
     "start_time": "2024-03-27T09:50:17.400290",
     "status": "completed"
    },
    "tags": []
   },
   "outputs": [],
   "source": [
    "\n",
    "\n",
    "import numpy as np\n",
    "import matplotlib.pyplot as plt\n",
    "import pandas as pd\n",
    "\n",
    "from sklearn.model_selection import train_test_split\n",
    "from sklearn.preprocessing import StandardScaler\n",
    "\n",
    "from sklearn.linear_model import LinearRegression\n",
    "from sklearn.metrics import mean_squared_error\n",
    "\n",
    "\n",
    "\n",
    "import os\n",
    "for dirname, _, filenames in os.walk('/kaggle/input'):\n",
    "    for filename in filenames:\n",
    "        print(os.path.join(dirname, filename))\n",
    "\n"
   ]
  },
  {
   "cell_type": "markdown",
   "id": "8b33a3aa",
   "metadata": {
    "papermill": {
     "duration": 0.009947,
     "end_time": "2024-03-27T09:50:20.295900",
     "exception": false,
     "start_time": "2024-03-27T09:50:20.285953",
     "status": "completed"
    },
    "tags": []
   },
   "source": [
    "We'll use the diabetes built-in dataset which contains a set of predictive variables for predicting some quantitative measure of diabetes disease progression."
   ]
  },
  {
   "cell_type": "code",
   "execution_count": 2,
   "id": "20bbbd6a",
   "metadata": {
    "execution": {
     "iopub.execute_input": "2024-03-27T09:50:20.318229Z",
     "iopub.status.busy": "2024-03-27T09:50:20.317216Z",
     "iopub.status.idle": "2024-03-27T09:50:20.469293Z",
     "shell.execute_reply": "2024-03-27T09:50:20.468314Z"
    },
    "papermill": {
     "duration": 0.166783,
     "end_time": "2024-03-27T09:50:20.472469",
     "exception": false,
     "start_time": "2024-03-27T09:50:20.305686",
     "status": "completed"
    },
    "tags": []
   },
   "outputs": [],
   "source": [
    "from sklearn.datasets import load_diabetes\n",
    "data = load_diabetes()\n"
   ]
  },
  {
   "cell_type": "markdown",
   "id": "10143863",
   "metadata": {
    "papermill": {
     "duration": 0.009898,
     "end_time": "2024-03-27T09:50:20.492698",
     "exception": false,
     "start_time": "2024-03-27T09:50:20.482800",
     "status": "completed"
    },
    "tags": []
   },
   "source": [
    "Undertake `data description`"
   ]
  },
  {
   "cell_type": "code",
   "execution_count": 3,
   "id": "964ed80e",
   "metadata": {
    "execution": {
     "iopub.execute_input": "2024-03-27T09:50:20.515996Z",
     "iopub.status.busy": "2024-03-27T09:50:20.515205Z",
     "iopub.status.idle": "2024-03-27T09:50:20.521145Z",
     "shell.execute_reply": "2024-03-27T09:50:20.520079Z"
    },
    "papermill": {
     "duration": 0.021067,
     "end_time": "2024-03-27T09:50:20.524056",
     "exception": false,
     "start_time": "2024-03-27T09:50:20.502989",
     "status": "completed"
    },
    "tags": []
   },
   "outputs": [
    {
     "name": "stdout",
     "output_type": "stream",
     "text": [
      ".. _diabetes_dataset:\n",
      "\n",
      "Diabetes dataset\n",
      "----------------\n",
      "\n",
      "Ten baseline variables, age, sex, body mass index, average blood\n",
      "pressure, and six blood serum measurements were obtained for each of n =\n",
      "442 diabetes patients, as well as the response of interest, a\n",
      "quantitative measure of disease progression one year after baseline.\n",
      "\n",
      "**Data Set Characteristics:**\n",
      "\n",
      "  :Number of Instances: 442\n",
      "\n",
      "  :Number of Attributes: First 10 columns are numeric predictive values\n",
      "\n",
      "  :Target: Column 11 is a quantitative measure of disease progression one year after baseline\n",
      "\n",
      "  :Attribute Information:\n",
      "      - age     age in years\n",
      "      - sex\n",
      "      - bmi     body mass index\n",
      "      - bp      average blood pressure\n",
      "      - s1      tc, total serum cholesterol\n",
      "      - s2      ldl, low-density lipoproteins\n",
      "      - s3      hdl, high-density lipoproteins\n",
      "      - s4      tch, total cholesterol / HDL\n",
      "      - s5      ltg, possibly log of serum triglycerides level\n",
      "      - s6      glu, blood sugar level\n",
      "\n",
      "Note: Each of these 10 feature variables have been mean centered and scaled by the standard deviation times the square root of `n_samples` (i.e. the sum of squares of each column totals 1).\n",
      "\n",
      "Source URL:\n",
      "https://www4.stat.ncsu.edu/~boos/var.select/diabetes.html\n",
      "\n",
      "For more information see:\n",
      "Bradley Efron, Trevor Hastie, Iain Johnstone and Robert Tibshirani (2004) \"Least Angle Regression,\" Annals of Statistics (with discussion), 407-499.\n",
      "(https://web.stanford.edu/~hastie/Papers/LARS/LeastAngle_2002.pdf)\n",
      "\n"
     ]
    }
   ],
   "source": [
    "print(data.DESCR)"
   ]
  },
  {
   "cell_type": "markdown",
   "id": "c894340f",
   "metadata": {
    "papermill": {
     "duration": 0.009818,
     "end_time": "2024-03-27T09:50:20.543870",
     "exception": false,
     "start_time": "2024-03-27T09:50:20.534052",
     "status": "completed"
    },
    "tags": []
   },
   "source": [
    "Create the DataFrame using the data we have loaded above"
   ]
  },
  {
   "cell_type": "code",
   "execution_count": 4,
   "id": "668217fe",
   "metadata": {
    "execution": {
     "iopub.execute_input": "2024-03-27T09:50:20.566771Z",
     "iopub.status.busy": "2024-03-27T09:50:20.565978Z",
     "iopub.status.idle": "2024-03-27T09:50:20.578808Z",
     "shell.execute_reply": "2024-03-27T09:50:20.577829Z"
    },
    "papermill": {
     "duration": 0.02736,
     "end_time": "2024-03-27T09:50:20.581641",
     "exception": false,
     "start_time": "2024-03-27T09:50:20.554281",
     "status": "completed"
    },
    "tags": []
   },
   "outputs": [],
   "source": [
    "df = pd.DataFrame(data.data, columns=data.feature_names)\n",
    "df['progression'] = pd.Series(data.target)"
   ]
  },
  {
   "cell_type": "code",
   "execution_count": 5,
   "id": "bdaf6590",
   "metadata": {
    "execution": {
     "iopub.execute_input": "2024-03-27T09:50:20.605331Z",
     "iopub.status.busy": "2024-03-27T09:50:20.604862Z",
     "iopub.status.idle": "2024-03-27T09:50:20.632135Z",
     "shell.execute_reply": "2024-03-27T09:50:20.630625Z"
    },
    "papermill": {
     "duration": 0.042964,
     "end_time": "2024-03-27T09:50:20.634794",
     "exception": false,
     "start_time": "2024-03-27T09:50:20.591830",
     "status": "completed"
    },
    "tags": []
   },
   "outputs": [
    {
     "data": {
      "text/html": [
       "<div>\n",
       "<style scoped>\n",
       "    .dataframe tbody tr th:only-of-type {\n",
       "        vertical-align: middle;\n",
       "    }\n",
       "\n",
       "    .dataframe tbody tr th {\n",
       "        vertical-align: top;\n",
       "    }\n",
       "\n",
       "    .dataframe thead th {\n",
       "        text-align: right;\n",
       "    }\n",
       "</style>\n",
       "<table border=\"1\" class=\"dataframe\">\n",
       "  <thead>\n",
       "    <tr style=\"text-align: right;\">\n",
       "      <th></th>\n",
       "      <th>age</th>\n",
       "      <th>sex</th>\n",
       "      <th>bmi</th>\n",
       "      <th>bp</th>\n",
       "      <th>s1</th>\n",
       "      <th>s2</th>\n",
       "      <th>s3</th>\n",
       "      <th>s4</th>\n",
       "      <th>s5</th>\n",
       "      <th>s6</th>\n",
       "      <th>progression</th>\n",
       "    </tr>\n",
       "  </thead>\n",
       "  <tbody>\n",
       "    <tr>\n",
       "      <th>0</th>\n",
       "      <td>0.038076</td>\n",
       "      <td>0.050680</td>\n",
       "      <td>0.061696</td>\n",
       "      <td>0.021872</td>\n",
       "      <td>-0.044223</td>\n",
       "      <td>-0.034821</td>\n",
       "      <td>-0.043401</td>\n",
       "      <td>-0.002592</td>\n",
       "      <td>0.019907</td>\n",
       "      <td>-0.017646</td>\n",
       "      <td>151.0</td>\n",
       "    </tr>\n",
       "    <tr>\n",
       "      <th>1</th>\n",
       "      <td>-0.001882</td>\n",
       "      <td>-0.044642</td>\n",
       "      <td>-0.051474</td>\n",
       "      <td>-0.026328</td>\n",
       "      <td>-0.008449</td>\n",
       "      <td>-0.019163</td>\n",
       "      <td>0.074412</td>\n",
       "      <td>-0.039493</td>\n",
       "      <td>-0.068332</td>\n",
       "      <td>-0.092204</td>\n",
       "      <td>75.0</td>\n",
       "    </tr>\n",
       "    <tr>\n",
       "      <th>2</th>\n",
       "      <td>0.085299</td>\n",
       "      <td>0.050680</td>\n",
       "      <td>0.044451</td>\n",
       "      <td>-0.005670</td>\n",
       "      <td>-0.045599</td>\n",
       "      <td>-0.034194</td>\n",
       "      <td>-0.032356</td>\n",
       "      <td>-0.002592</td>\n",
       "      <td>0.002861</td>\n",
       "      <td>-0.025930</td>\n",
       "      <td>141.0</td>\n",
       "    </tr>\n",
       "    <tr>\n",
       "      <th>3</th>\n",
       "      <td>-0.089063</td>\n",
       "      <td>-0.044642</td>\n",
       "      <td>-0.011595</td>\n",
       "      <td>-0.036656</td>\n",
       "      <td>0.012191</td>\n",
       "      <td>0.024991</td>\n",
       "      <td>-0.036038</td>\n",
       "      <td>0.034309</td>\n",
       "      <td>0.022688</td>\n",
       "      <td>-0.009362</td>\n",
       "      <td>206.0</td>\n",
       "    </tr>\n",
       "    <tr>\n",
       "      <th>4</th>\n",
       "      <td>0.005383</td>\n",
       "      <td>-0.044642</td>\n",
       "      <td>-0.036385</td>\n",
       "      <td>0.021872</td>\n",
       "      <td>0.003935</td>\n",
       "      <td>0.015596</td>\n",
       "      <td>0.008142</td>\n",
       "      <td>-0.002592</td>\n",
       "      <td>-0.031988</td>\n",
       "      <td>-0.046641</td>\n",
       "      <td>135.0</td>\n",
       "    </tr>\n",
       "  </tbody>\n",
       "</table>\n",
       "</div>"
      ],
      "text/plain": [
       "        age       sex       bmi        bp        s1        s2        s3  \\\n",
       "0  0.038076  0.050680  0.061696  0.021872 -0.044223 -0.034821 -0.043401   \n",
       "1 -0.001882 -0.044642 -0.051474 -0.026328 -0.008449 -0.019163  0.074412   \n",
       "2  0.085299  0.050680  0.044451 -0.005670 -0.045599 -0.034194 -0.032356   \n",
       "3 -0.089063 -0.044642 -0.011595 -0.036656  0.012191  0.024991 -0.036038   \n",
       "4  0.005383 -0.044642 -0.036385  0.021872  0.003935  0.015596  0.008142   \n",
       "\n",
       "         s4        s5        s6  progression  \n",
       "0 -0.002592  0.019907 -0.017646        151.0  \n",
       "1 -0.039493 -0.068332 -0.092204         75.0  \n",
       "2 -0.002592  0.002861 -0.025930        141.0  \n",
       "3  0.034309  0.022688 -0.009362        206.0  \n",
       "4 -0.002592 -0.031988 -0.046641        135.0  "
      ]
     },
     "execution_count": 5,
     "metadata": {},
     "output_type": "execute_result"
    }
   ],
   "source": [
    "df.head()"
   ]
  },
  {
   "cell_type": "markdown",
   "id": "b835d473",
   "metadata": {
    "papermill": {
     "duration": 0.009967,
     "end_time": "2024-03-27T09:50:20.655148",
     "exception": false,
     "start_time": "2024-03-27T09:50:20.645181",
     "status": "completed"
    },
    "tags": []
   },
   "source": [
    "1. Training the model¶\n",
    "\n",
    "\n",
    "\n",
    "Let's start by training a model that we can save later. We'll build a multiple linear regression model on the Sklearn's internal dataset."
   ]
  },
  {
   "cell_type": "markdown",
   "id": "d75b93a5",
   "metadata": {
    "papermill": {
     "duration": 0.009902,
     "end_time": "2024-03-27T09:50:20.675531",
     "exception": false,
     "start_time": "2024-03-27T09:50:20.665629",
     "status": "completed"
    },
    "tags": []
   },
   "source": [
    "Preprocessing\n",
    "\n",
    "\n",
    "Having reviewed the data, we now perform a minimal amount of preprocessing to prepare for model fitting and evaluation:"
   ]
  },
  {
   "cell_type": "code",
   "execution_count": 6,
   "id": "fdd7f8c8",
   "metadata": {
    "execution": {
     "iopub.execute_input": "2024-03-27T09:50:20.698869Z",
     "iopub.status.busy": "2024-03-27T09:50:20.698051Z",
     "iopub.status.idle": "2024-03-27T09:50:20.719408Z",
     "shell.execute_reply": "2024-03-27T09:50:20.717895Z"
    },
    "papermill": {
     "duration": 0.036815,
     "end_time": "2024-03-27T09:50:20.722591",
     "exception": false,
     "start_time": "2024-03-27T09:50:20.685776",
     "status": "completed"
    },
    "tags": []
   },
   "outputs": [],
   "source": [
    "# split data into X and y\n",
    "y = df['progression']\n",
    "X = df.drop('progression', axis=1)\n",
    "\n",
    "# standardize features\n",
    "scaler = StandardScaler()\n",
    "X_scaled = scaler.fit_transform(X)\n",
    "\n",
    "\n",
    "# get training and testing data\n",
    "X_train, X_test, y_train, y_test = train_test_split(X_scaled, y, test_size=0.2, random_state=42)"
   ]
  },
  {
   "cell_type": "markdown",
   "id": "987b9101",
   "metadata": {
    "papermill": {
     "duration": 0.010172,
     "end_time": "2024-03-27T09:50:20.743204",
     "exception": false,
     "start_time": "2024-03-27T09:50:20.733032",
     "status": "completed"
    },
    "tags": []
   },
   "source": [
    "`Model fitting and evaluation`\n",
    "\n",
    "\n",
    "We now fit our model to the data. For this example, we choose a vanilla linear regression model, however, we can still explore more complex models within sklearn."
   ]
  },
  {
   "cell_type": "code",
   "execution_count": 7,
   "id": "81b944ef",
   "metadata": {
    "execution": {
     "iopub.execute_input": "2024-03-27T09:50:20.767072Z",
     "iopub.status.busy": "2024-03-27T09:50:20.765541Z",
     "iopub.status.idle": "2024-03-27T09:50:20.797339Z",
     "shell.execute_reply": "2024-03-27T09:50:20.795467Z"
    },
    "papermill": {
     "duration": 0.046447,
     "end_time": "2024-03-27T09:50:20.800107",
     "exception": false,
     "start_time": "2024-03-27T09:50:20.753660",
     "status": "completed"
    },
    "tags": []
   },
   "outputs": [
    {
     "name": "stdout",
     "output_type": "stream",
     "text": [
      "MSE: 2900.193628493481\n"
     ]
    }
   ],
   "source": [
    "# define the model \n",
    "model = LinearRegression()\n",
    "\n",
    "# fit the model \n",
    "model.fit(X_train, y_train)\n",
    "\n",
    "# get predictions on the test set \n",
    "y_pred = model.predict(X_test)\n",
    "\n",
    "# calculate performance metrics\n",
    "print(\"MSE:\",mean_squared_error(y_test, y_pred))"
   ]
  },
  {
   "cell_type": "markdown",
   "id": "88d760e3",
   "metadata": {
    "papermill": {
     "duration": 0.010195,
     "end_time": "2024-03-27T09:50:20.821558",
     "exception": false,
     "start_time": "2024-03-27T09:50:20.811363",
     "status": "completed"
    },
    "tags": []
   },
   "source": [
    "In cases where visualising how the model performs on the actual data is not possible (i.e. too many dimensions), we can plot the actual vs the predicted 𝑦 values:"
   ]
  },
  {
   "cell_type": "code",
   "execution_count": 8,
   "id": "215c3d9d",
   "metadata": {
    "execution": {
     "iopub.execute_input": "2024-03-27T09:50:20.844249Z",
     "iopub.status.busy": "2024-03-27T09:50:20.843839Z",
     "iopub.status.idle": "2024-03-27T09:50:21.379810Z",
     "shell.execute_reply": "2024-03-27T09:50:21.378214Z"
    },
    "papermill": {
     "duration": 0.550871,
     "end_time": "2024-03-27T09:50:21.382780",
     "exception": false,
     "start_time": "2024-03-27T09:50:20.831909",
     "status": "completed"
    },
    "tags": []
   },
   "outputs": [
    {
     "data": {
      "image/png": "[encoded data removed]",
      "text/plain": [
       "<Figure size 640x480 with 1 Axes>"
      ]
     },
     "metadata": {},
     "output_type": "display_data"
    }
   ],
   "source": [
    "plt.scatter(y_test,y_pred) \n",
    "plt.plot(y_test,y_test,\"r\") # perfect model line\n",
    "plt.ylabel(\"Predicted $y$\")\n",
    "plt.xlabel(\"Actual $y$\")\n",
    "plt.show()"
   ]
  },
  {
   "cell_type": "markdown",
   "id": "efcd8837",
   "metadata": {
    "papermill": {
     "duration": 0.010762,
     "end_time": "2024-03-27T09:50:21.404805",
     "exception": false,
     "start_time": "2024-03-27T09:50:21.394043",
     "status": "completed"
    },
    "tags": []
   },
   "source": [
    "At a glance, our MLR model seems to have decent performance. Now let's try to save it."
   ]
  },
  {
   "cell_type": "markdown",
   "id": "aa437e5e",
   "metadata": {
    "papermill": {
     "duration": 0.010713,
     "end_time": "2024-03-27T09:50:21.426946",
     "exception": false,
     "start_time": "2024-03-27T09:50:21.416233",
     "status": "completed"
    },
    "tags": []
   },
   "source": [
    "2. Object Serialization\n",
    "\n",
    "Saving the model with Pickle"
   ]
  },
  {
   "cell_type": "code",
   "execution_count": 9,
   "id": "fddb1582",
   "metadata": {
    "execution": {
     "iopub.execute_input": "2024-03-27T09:50:21.451873Z",
     "iopub.status.busy": "2024-03-27T09:50:21.450307Z",
     "iopub.status.idle": "2024-03-27T09:50:21.458127Z",
     "shell.execute_reply": "2024-03-27T09:50:21.456837Z"
    },
    "papermill": {
     "duration": 0.023341,
     "end_time": "2024-03-27T09:50:21.461112",
     "exception": false,
     "start_time": "2024-03-27T09:50:21.437771",
     "status": "completed"
    },
    "tags": []
   },
   "outputs": [],
   "source": [
    "# Importing the pickle library\n",
    "import pickle\n",
    "\n",
    "# Save the model just like we would a Python file\n",
    "model_save_path = \"mlr_model.pkl\"\n",
    "with open(model_save_path,'wb') as file:\n",
    "    pickle.dump(model,file)"
   ]
  },
  {
   "cell_type": "markdown",
   "id": "3e375b45",
   "metadata": {
    "papermill": {
     "duration": 0.010647,
     "end_time": "2024-03-27T09:50:21.482914",
     "exception": false,
     "start_time": "2024-03-27T09:50:21.472267",
     "status": "completed"
    },
    "tags": []
   },
   "source": [
    "Restoring the model with Pickle"
   ]
  },
  {
   "cell_type": "code",
   "execution_count": 10,
   "id": "ef782058",
   "metadata": {
    "execution": {
     "iopub.execute_input": "2024-03-27T09:50:21.506957Z",
     "iopub.status.busy": "2024-03-27T09:50:21.506526Z",
     "iopub.status.idle": "2024-03-27T09:50:21.513136Z",
     "shell.execute_reply": "2024-03-27T09:50:21.511959Z"
    },
    "papermill": {
     "duration": 0.021812,
     "end_time": "2024-03-27T09:50:21.515492",
     "exception": false,
     "start_time": "2024-03-27T09:50:21.493680",
     "status": "completed"
    },
    "tags": []
   },
   "outputs": [],
   "source": [
    "# restore the model just like we would read a file\n",
    "model_load_path = \"mlr_model.pkl\"\n",
    "with open(model_load_path,'rb') as file:\n",
    "    unpickled_model = pickle.load(file)"
   ]
  },
  {
   "cell_type": "markdown",
   "id": "07bb3777",
   "metadata": {
    "papermill": {
     "duration": 0.010715,
     "end_time": "2024-03-27T09:50:21.537734",
     "exception": false,
     "start_time": "2024-03-27T09:50:21.527019",
     "status": "completed"
    },
    "tags": []
   },
   "source": [
    "Using the model file to make predictions"
   ]
  },
  {
   "cell_type": "code",
   "execution_count": 11,
   "id": "fa6284e8",
   "metadata": {
    "execution": {
     "iopub.execute_input": "2024-03-27T09:50:21.563370Z",
     "iopub.status.busy": "2024-03-27T09:50:21.562168Z",
     "iopub.status.idle": "2024-03-27T09:50:21.569000Z",
     "shell.execute_reply": "2024-03-27T09:50:21.567443Z"
    },
    "papermill": {
     "duration": 0.022396,
     "end_time": "2024-03-27T09:50:21.572004",
     "exception": false,
     "start_time": "2024-03-27T09:50:21.549608",
     "status": "completed"
    },
    "tags": []
   },
   "outputs": [],
   "source": [
    "# get predictions from unpickled model\n",
    "y_pred = unpickled_model.predict(X_test)"
   ]
  },
  {
   "cell_type": "code",
   "execution_count": 12,
   "id": "19115a4d",
   "metadata": {
    "execution": {
     "iopub.execute_input": "2024-03-27T09:50:21.596500Z",
     "iopub.status.busy": "2024-03-27T09:50:21.596116Z",
     "iopub.status.idle": "2024-03-27T09:50:21.603322Z",
     "shell.execute_reply": "2024-03-27T09:50:21.601848Z"
    },
    "papermill": {
     "duration": 0.022844,
     "end_time": "2024-03-27T09:50:21.605961",
     "exception": false,
     "start_time": "2024-03-27T09:50:21.583117",
     "status": "completed"
    },
    "tags": []
   },
   "outputs": [
    {
     "name": "stdout",
     "output_type": "stream",
     "text": [
      "MSE: 2900.193628493481\n"
     ]
    }
   ],
   "source": [
    "# calculate performance metrics\n",
    "print(\"MSE:\",mean_squared_error(y_test, y_pred))"
   ]
  },
  {
   "cell_type": "markdown",
   "id": "a087d5db",
   "metadata": {
    "papermill": {
     "duration": 0.010741,
     "end_time": "2024-03-27T09:50:21.627669",
     "exception": false,
     "start_time": "2024-03-27T09:50:21.616928",
     "status": "completed"
    },
    "tags": []
   },
   "source": [
    "`Exercises`"
   ]
  },
  {
   "cell_type": "markdown",
   "id": "7085b6d7",
   "metadata": {
    "papermill": {
     "duration": 0.011131,
     "end_time": "2024-03-27T09:50:21.649955",
     "exception": false,
     "start_time": "2024-03-27T09:50:21.638824",
     "status": "completed"
    },
    "tags": []
   },
   "source": [
    "Exercises\n",
    "\n",
    "\n",
    "We are provided with the Crop_yield dataset that contains various factors that could influence the yield of a particular crop across different regions.\n",
    "\n",
    "We are interested in how some features, namely: Temperature, Rainfall, Fertilizer_usage, and Pesticide_usage influence the yield of the crop."
   ]
  },
  {
   "cell_type": "markdown",
   "id": "1171ab7a",
   "metadata": {
    "papermill": {
     "duration": 0.01134,
     "end_time": "2024-03-27T09:50:21.672429",
     "exception": false,
     "start_time": "2024-03-27T09:50:21.661089",
     "status": "completed"
    },
    "tags": []
   },
   "source": [
    "`Import libraries and dataset`"
   ]
  },
  {
   "cell_type": "code",
   "execution_count": 13,
   "id": "fab50d8a",
   "metadata": {
    "execution": {
     "iopub.execute_input": "2024-03-27T09:50:21.696652Z",
     "iopub.status.busy": "2024-03-27T09:50:21.696161Z",
     "iopub.status.idle": "2024-03-27T09:50:21.702720Z",
     "shell.execute_reply": "2024-03-27T09:50:21.701102Z"
    },
    "papermill": {
     "duration": 0.022034,
     "end_time": "2024-03-27T09:50:21.705474",
     "exception": false,
     "start_time": "2024-03-27T09:50:21.683440",
     "status": "completed"
    },
    "tags": []
   },
   "outputs": [],
   "source": [
    "import numpy as np\n",
    "import pandas as pd\n",
    "from sklearn.model_selection import train_test_split\n",
    "from sklearn.linear_model import LinearRegression\n",
    "from sklearn.metrics import mean_squared_error, r2_score\n",
    "import pickle"
   ]
  },
  {
   "cell_type": "code",
   "execution_count": 14,
   "id": "6dfac474",
   "metadata": {
    "execution": {
     "iopub.execute_input": "2024-03-27T09:50:21.731642Z",
     "iopub.status.busy": "2024-03-27T09:50:21.731225Z",
     "iopub.status.idle": "2024-03-27T09:50:21.946393Z",
     "shell.execute_reply": "2024-03-27T09:50:21.945057Z"
    },
    "papermill": {
     "duration": 0.232392,
     "end_time": "2024-03-27T09:50:21.950263",
     "exception": false,
     "start_time": "2024-03-27T09:50:21.717871",
     "status": "completed"
    },
    "tags": []
   },
   "outputs": [
    {
     "data": {
      "text/html": [
       "<div>\n",
       "<style scoped>\n",
       "    .dataframe tbody tr th:only-of-type {\n",
       "        vertical-align: middle;\n",
       "    }\n",
       "\n",
       "    .dataframe tbody tr th {\n",
       "        vertical-align: top;\n",
       "    }\n",
       "\n",
       "    .dataframe thead th {\n",
       "        text-align: right;\n",
       "    }\n",
       "</style>\n",
       "<table border=\"1\" class=\"dataframe\">\n",
       "  <thead>\n",
       "    <tr style=\"text-align: right;\">\n",
       "      <th></th>\n",
       "      <th>Region</th>\n",
       "      <th>Temperature</th>\n",
       "      <th>Rainfall</th>\n",
       "      <th>Soil_Type</th>\n",
       "      <th>Fertilizer_Usage</th>\n",
       "      <th>Pesticide_Usage</th>\n",
       "      <th>Irrigation</th>\n",
       "      <th>Crop_Variety</th>\n",
       "      <th>Yield</th>\n",
       "    </tr>\n",
       "  </thead>\n",
       "  <tbody>\n",
       "    <tr>\n",
       "      <th>0</th>\n",
       "      <td>East</td>\n",
       "      <td>23.152156</td>\n",
       "      <td>803.362573</td>\n",
       "      <td>Clayey</td>\n",
       "      <td>204.792011</td>\n",
       "      <td>20.767590</td>\n",
       "      <td>1</td>\n",
       "      <td>Variety B</td>\n",
       "      <td>40.316318</td>\n",
       "    </tr>\n",
       "    <tr>\n",
       "      <th>1</th>\n",
       "      <td>West</td>\n",
       "      <td>19.382419</td>\n",
       "      <td>571.567670</td>\n",
       "      <td>Sandy</td>\n",
       "      <td>256.201737</td>\n",
       "      <td>49.290242</td>\n",
       "      <td>0</td>\n",
       "      <td>Variety A</td>\n",
       "      <td>26.846639</td>\n",
       "    </tr>\n",
       "    <tr>\n",
       "      <th>2</th>\n",
       "      <td>North</td>\n",
       "      <td>27.895890</td>\n",
       "      <td>-8.699637</td>\n",
       "      <td>Loamy</td>\n",
       "      <td>222.202626</td>\n",
       "      <td>25.316121</td>\n",
       "      <td>0</td>\n",
       "      <td>Variety C</td>\n",
       "      <td>-0.323558</td>\n",
       "    </tr>\n",
       "    <tr>\n",
       "      <th>3</th>\n",
       "      <td>East</td>\n",
       "      <td>26.741361</td>\n",
       "      <td>897.426194</td>\n",
       "      <td>Loamy</td>\n",
       "      <td>187.984090</td>\n",
       "      <td>17.115362</td>\n",
       "      <td>0</td>\n",
       "      <td>Variety C</td>\n",
       "      <td>45.440871</td>\n",
       "    </tr>\n",
       "    <tr>\n",
       "      <th>4</th>\n",
       "      <td>East</td>\n",
       "      <td>19.090286</td>\n",
       "      <td>649.384694</td>\n",
       "      <td>Loamy</td>\n",
       "      <td>110.459549</td>\n",
       "      <td>24.068804</td>\n",
       "      <td>1</td>\n",
       "      <td>Variety B</td>\n",
       "      <td>35.478118</td>\n",
       "    </tr>\n",
       "  </tbody>\n",
       "</table>\n",
       "</div>"
      ],
      "text/plain": [
       "  Region  Temperature    Rainfall Soil_Type  Fertilizer_Usage  \\\n",
       "0   East    23.152156  803.362573    Clayey        204.792011   \n",
       "1   West    19.382419  571.567670     Sandy        256.201737   \n",
       "2  North    27.895890   -8.699637     Loamy        222.202626   \n",
       "3   East    26.741361  897.426194     Loamy        187.984090   \n",
       "4   East    19.090286  649.384694     Loamy        110.459549   \n",
       "\n",
       "   Pesticide_Usage  Irrigation Crop_Variety      Yield  \n",
       "0        20.767590           1    Variety B  40.316318  \n",
       "1        49.290242           0    Variety A  26.846639  \n",
       "2        25.316121           0    Variety C  -0.323558  \n",
       "3        17.115362           0    Variety C  45.440871  \n",
       "4        24.068804           1    Variety B  35.478118  "
      ]
     },
     "execution_count": 14,
     "metadata": {},
     "output_type": "execute_result"
    }
   ],
   "source": [
    "# Load dataset\n",
    "df= pd.read_csv(\"https://raw.githubusercontent.com/Explore-AI/Public-Data/master/Data/Python/Crop_yield.csv\")\n",
    "df.head(5)"
   ]
  },
  {
   "cell_type": "markdown",
   "id": "2e122789",
   "metadata": {
    "papermill": {
     "duration": 0.012416,
     "end_time": "2024-03-27T09:50:21.976448",
     "exception": false,
     "start_time": "2024-03-27T09:50:21.964032",
     "status": "completed"
    },
    "tags": []
   },
   "source": [
    "`Exercise 1`\n",
    "\n",
    "\n",
    "\n",
    "We begin by training and evaluating a multiple linear regression model to map the relationship between the features: `Temperature`, `Rainfall`, `Fertilizer_usage`, and `Pesticide_usage` and the response variable, `Yield`. This model will enable us to predict crop yields based on the given factors."
   ]
  },
  {
   "cell_type": "code",
   "execution_count": 15,
   "id": "e32daff4",
   "metadata": {
    "execution": {
     "iopub.execute_input": "2024-03-27T09:50:22.002731Z",
     "iopub.status.busy": "2024-03-27T09:50:22.002216Z",
     "iopub.status.idle": "2024-03-27T09:50:22.021249Z",
     "shell.execute_reply": "2024-03-27T09:50:22.019933Z"
    },
    "papermill": {
     "duration": 0.035681,
     "end_time": "2024-03-27T09:50:22.024356",
     "exception": false,
     "start_time": "2024-03-27T09:50:21.988675",
     "status": "completed"
    },
    "tags": []
   },
   "outputs": [
    {
     "name": "stdout",
     "output_type": "stream",
     "text": [
      "Test MSE: 0.3346060708725867\n",
      "Test R-squared: 0.9963871774411283\n"
     ]
    }
   ],
   "source": [
    "# Define predictors and target variable\n",
    "X = df[['Temperature', 'Rainfall', 'Fertilizer_Usage', 'Pesticide_Usage']]\n",
    "y = df['Yield']\n",
    "\n",
    "# Split the dataset into training and testing sets\n",
    "X_train, X_test, y_train, y_test = train_test_split(X, y, test_size=0.2, random_state=42)\n",
    "\n",
    "# Train a multiple linear regression model\n",
    "model = LinearRegression()\n",
    "model.fit(X_train, y_train)\n",
    "\n",
    "# Evaluate the model's performance on the test set\n",
    "y_pred = model.predict(X_test)\n",
    "mse = mean_squared_error(y_test, y_pred)\n",
    "r2 = r2_score(y_test, y_pred)\n",
    "\n",
    "print(f\"Test MSE: {mse}\")\n",
    "print(f\"Test R-squared: {r2}\")"
   ]
  },
  {
   "cell_type": "markdown",
   "id": "b7e4343b",
   "metadata": {
    "papermill": {
     "duration": 0.01179,
     "end_time": "2024-03-27T09:50:22.047877",
     "exception": false,
     "start_time": "2024-03-27T09:50:22.036087",
     "status": "completed"
    },
    "tags": []
   },
   "source": [
    "`Exercise 2`\n",
    "\n",
    "\n",
    "\n",
    "We want to be able to conveniently retrieve and use the model for predictions in future. We therefore need to persist the trained model by saving it to a file.\n",
    "\n",
    "Use the Pickle library to serialize the model and store it in a file named crop_yield_model.pkl."
   ]
  },
  {
   "cell_type": "code",
   "execution_count": 16,
   "id": "b983af4a",
   "metadata": {
    "execution": {
     "iopub.execute_input": "2024-03-27T09:50:22.075389Z",
     "iopub.status.busy": "2024-03-27T09:50:22.074998Z",
     "iopub.status.idle": "2024-03-27T09:50:22.084843Z",
     "shell.execute_reply": "2024-03-27T09:50:22.082480Z"
    },
    "papermill": {
     "duration": 0.028595,
     "end_time": "2024-03-27T09:50:22.088442",
     "exception": false,
     "start_time": "2024-03-27T09:50:22.059847",
     "status": "completed"
    },
    "tags": []
   },
   "outputs": [
    {
     "name": "stdout",
     "output_type": "stream",
     "text": [
      "Model saved to crop_yield_model.pkl\n"
     ]
    }
   ],
   "source": [
    "# Define the path where the model will be saved.\n",
    "model_save_path = 'crop_yield_model.pkl'\n",
    "\n",
    "# Save the trained model to a file\n",
    "with open(model_save_path, 'wb') as file:\n",
    "    pickle.dump(model, file)\n",
    "\n",
    "print(f\"Model saved to {model_save_path}\")"
   ]
  },
  {
   "cell_type": "markdown",
   "id": "7b66f50c",
   "metadata": {
    "papermill": {
     "duration": 0.014902,
     "end_time": "2024-03-27T09:50:22.119129",
     "exception": false,
     "start_time": "2024-03-27T09:50:22.104227",
     "status": "completed"
    },
    "tags": []
   },
   "source": [
    "`Exercise 3`\n",
    "\n",
    "\n",
    "\n",
    "We have received a new set of conditions for which we need to predict the crop yield. To accomplish this, we'll utilize the model we previously trained and saved.\n",
    "\n",
    "New conditions:\n",
    "\n",
    "Temperature - 25\n",
    "Rainfall - 150\n",
    "Fertilizer usage - 200\n",
    "Pesticide usage - 30\n",
    "Prepare the new data, load the saved model and use it to make predictions on the given feature values."
   ]
  },
  {
   "cell_type": "code",
   "execution_count": 17,
   "id": "2c86c2bb",
   "metadata": {
    "execution": {
     "iopub.execute_input": "2024-03-27T09:50:22.153256Z",
     "iopub.status.busy": "2024-03-27T09:50:22.151714Z",
     "iopub.status.idle": "2024-03-27T09:50:22.165920Z",
     "shell.execute_reply": "2024-03-27T09:50:22.164472Z"
    },
    "papermill": {
     "duration": 0.031066,
     "end_time": "2024-03-27T09:50:22.168350",
     "exception": false,
     "start_time": "2024-03-27T09:50:22.137284",
     "status": "completed"
    },
    "tags": []
   },
   "outputs": [
    {
     "name": "stdout",
     "output_type": "stream",
     "text": [
      "Predicted Yield for the new conditions: 8.172860333818216 tonnes per hectare\n"
     ]
    }
   ],
   "source": [
    "# A dictionary to store the new set of conditions\n",
    "new_conditions = {\n",
    "    'Temperature': [25],  # average temperature in °C\n",
    "    'Rainfall': [150],  # total rainfall in mm\n",
    "    'Fertilizer_Usage': [200],  # fertilizer used in kg per hectare\n",
    "    'Pesticide_Usage': [30]  # pesticide used in liters per hectare\n",
    "}\n",
    "\n",
    "# Convert to DataFrame\n",
    "new_conditions_df = pd.DataFrame(new_conditions)\n",
    "\n",
    "# This is where the model is saved\n",
    "model_load_path = 'crop_yield_model.pkl'\n",
    "\n",
    "# Load the updated model\n",
    "with open(model_load_path, 'rb') as file:\n",
    "    loaded_model = pickle.load(file)\n",
    "\n",
    "# Use the model to predict the yield for the new conditions\n",
    "predicted_yield = loaded_model.predict(new_conditions_df)\n",
    "\n",
    "print(f\"Predicted Yield for the new conditions: {predicted_yield[0]} tonnes per hectare\")"
   ]
  }
 ],
 "metadata": {
  "kaggle": {
   "accelerator": "none",
   "dataSources": [],
   "dockerImageVersionId": 30673,
   "isGpuEnabled": false,
   "isInternetEnabled": true,
   "language": "python",
   "sourceType": "notebook"
  },
  "kernelspec": {
   "display_name": "Python 3",
   "language": "python",
   "name": "python3"
  },
  "language_info": {
   "codemirror_mode": {
    "name": "ipython",
    "version": 3
   },
   "file_extension": ".py",
   "mimetype": "text/x-python",
   "name": "python",
   "nbconvert_exporter": "python",
   "pygments_lexer": "ipython3",
   "version": "3.10.13"
  },
  "papermill": {
   "default_parameters": {},
   "duration": 9.228534,
   "end_time": "2024-03-27T09:50:23.105311",
   "environment_variables": {},
   "exception": null,
   "input_path": "__notebook__.ipynb",
   "output_path": "__notebook__.ipynb",
   "parameters": {},
   "start_time": "2024-03-27T09:50:13.876777",
   "version": "2.5.0"
  }
 },
 "nbformat": 4,
 "nbformat_minor": 5
}
